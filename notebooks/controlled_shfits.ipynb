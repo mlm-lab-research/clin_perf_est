{
 "cells": [
  {
   "cell_type": "markdown",
   "metadata": {},
   "source": [
    "### Precursor Cells"
   ]
  },
  {
   "cell_type": "code",
   "execution_count": null,
   "metadata": {},
   "outputs": [],
   "source": [
    "%load_ext autoreload\n",
    "%autoreload 2"
   ]
  },
  {
   "cell_type": "code",
   "execution_count": null,
   "metadata": {},
   "outputs": [],
   "source": [
    "from pathlib import Path\n",
    "import sys\n",
    "root = Path().resolve().parent\n",
    "if str(root) not in sys.path:\n",
    "    sys.path.insert(0, '..')\n",
    "\n",
    "# Standard Libraries\n",
    "import numpy as np\n",
    "import pandas as pd\n",
    "import matplotlib.pyplot as plt\n",
    "%matplotlib inline\n",
    "import os\n",
    "\n",
    "import pickle as pkl\n",
    "\n",
    "\n",
    "# Self writted modules utils\n",
    "from utils.plots import *\n",
    "from utils.utils import LabelShiftEvaluator, CovariateShiftEvaluatorCXR\n",
    "\n"
   ]
  },
  {
   "cell_type": "markdown",
   "metadata": {},
   "source": [
    "# 1) cheXpert Controlled Shifts"
   ]
  },
  {
   "cell_type": "markdown",
   "metadata": {},
   "source": [
    "## a) Label Shift"
   ]
  },
  {
   "cell_type": "code",
   "execution_count": null,
   "metadata": {},
   "outputs": [],
   "source": [
    "## Prepare and Load the Data ##\n",
    "\n",
    "# Create the the save folder\n",
    "save_folder = '../outputs/controlled_label_shift'\n",
    "os.makedirs(save_folder, exist_ok=True)\n",
    "\n",
    "# Load the model trained on cheXpert for Pleural Effusion scores and labels \n",
    "PATH_TO_DATA = '../results'\n",
    "with open(os.path.join(PATH_TO_DATA, 'uncal_scores_labs.pkl'), 'rb') as f:\n",
    "    uncal_scores_labs_seed = pkl.load(f)\n",
    "\n",
    "\n",
    "# Extract the models validation and test scores and labels\n",
    "# Validation will serve as I.D. Dataset\n",
    "# Test will serve as OOD Dataset (i.e. the dataset we want to evaluate the model on with controlled dataset shifts applied)\n",
    "val_labels = uncal_scores_labs_seed['id_labs_val']\n",
    "val_probs = uncal_scores_labs_seed['id_out_val']\n",
    "labels_list = uncal_scores_labs_seed['id_out_labs']\n",
    "probs_list = uncal_scores_labs_seed['id_out_test']"
   ]
  },
  {
   "cell_type": "code",
   "execution_count": null,
   "metadata": {},
   "outputs": [],
   "source": [
    "# Setup and evaluation\n",
    "TOTAL_SAMPLES = 1000 \n",
    "SHIFTS = np.linspace(0.05, 0.95, 19)\n",
    "N_RESAMPLES = 50\n",
    "METRICS = ['accuracy', 'bal_accuracy', 'precision', 'recall', 'specificity', 'auc', 'f1_score',]\n",
    "ESTIMATION_METHODS = ['test', 'validation', 'CBPE', 'ATC', 'CMATC', 'DoC', 'CMDoC']\n",
    "\n",
    "\n",
    "unequal_evaluator = LabelShiftEvaluator(\n",
    "    keys=METRICS,\n",
    "    estimation_methods=ESTIMATION_METHODS,\n",
    "    shifts=SHIFTS,\n",
    "    total_samples=TOTAL_SAMPLES,\n",
    "    n_resamples=N_RESAMPLES,\n",
    "    save_folder=save_folder,  \n",
    "    optional_name='chexpert_pleff'  # Optional added name for the output file\n",
    ")\n",
    "\n",
    "# Run evaluation\n",
    "unequal_df = unequal_evaluator.evaluate(\n",
    "    test_labels=labels_list,\n",
    "    test_probs=probs_list,\n",
    "    val_labels=val_labels,\n",
    "    val_probs=val_probs\n",
    ")\n"
   ]
  },
  {
   "cell_type": "markdown",
   "metadata": {},
   "source": [
    "### Paper Figure"
   ]
  },
  {
   "cell_type": "code",
   "execution_count": null,
   "metadata": {},
   "outputs": [],
   "source": [
    "path = '../outputs/controlled_label_shift/metrics_per_shift_chexpert_pleff.csv'\n",
    "save_folder = '../figures/'\n",
    "# Load the data\n",
    "df = pd.read_csv(path)\n",
    "\n",
    "# Plot the controlled label shift\n",
    "plot_controlled_shift(df, save_folder, optional_name=f'chexpert_controlled', shift_type='label', methods_to_plot=['test', 'CBPE', 'CMATC', 'CMDoC', 'ATC', 'DoC'], FIGURE_WIDTH=4.803,\n",
    "                     metrics=['accuracy', 'bal_accuracy', 'precision', 'recall', 'specificity', 'auc', 'f1_score', 'ACE / RBS'],)"
   ]
  },
  {
   "cell_type": "markdown",
   "metadata": {},
   "source": [
    "## b) Covariate Shift Pleural Effusion"
   ]
  },
  {
   "cell_type": "code",
   "execution_count": null,
   "metadata": {},
   "outputs": [],
   "source": [
    "e_methods = ['test', 'validation', 'CBPE', 'CMATC', 'CMDoC', 'ATC', 'DoC']\n",
    "path = '../results/artifact_array.npy'\n",
    "save_folder = '../outputs/controlled_covariate_shift'\n",
    "# Create the save folder\n",
    "os.makedirs(save_folder, exist_ok=True)\n",
    "## Prepare and Load the Data for Controlled Covariate Shift ##\n",
    "BIAS_LEVEL=0.8\n",
    "\n",
    "# laod from path\n",
    "if os.path.exists(path):\n",
    "    print(f'Loading test artifact from {path}')\n",
    "    test_artifacts = np.load(path, allow_pickle=True)\n",
    "\n",
    "\n",
    "\n",
    "e = CovariateShiftEvaluatorCXR(\n",
    "    keys=['accuracy', 'bal_accuracy', 'precision', 'recall', 'specificity', 'auc', 'f1_score',],\n",
    "    estimation_methods=e_methods,\n",
    "    shift_ratios=np.linspace(0,1,11),\n",
    "    total_samples=1000,\n",
    "    n_resamples=50,\n",
    "    save_folder=save_folder,\n",
    "    bias_level=BIAS_LEVEL,      \n",
    "    test_artifacts=test_artifacts, \n",
    "    optional_name=f'chexpert_{BIAS_LEVEL}'  # Optional name for the output file\n",
    ")\n",
    "df = e.evaluate()\n"
   ]
  },
  {
   "cell_type": "markdown",
   "metadata": {},
   "source": [
    "### Paper Figure"
   ]
  },
  {
   "cell_type": "code",
   "execution_count": null,
   "metadata": {},
   "outputs": [],
   "source": [
    "path_to_covariate_shift_df = '../outputs/controlled_covariate_shift/metrics_per_covshift_Pleff_chexpert_0.8.csv'\n",
    "save_folder = '../figures/'\n",
    "\n",
    "# Load the data\n",
    "df = pd.read_csv(path_to_covariate_shift_df)\n",
    "# Plot the controlled covariate shift\n",
    "plot_controlled_shift(df, save_folder, optional_name=f'chexpert_controlled', shift_type='covariate', methods_to_plot=['test', 'CBPE', 'ATC', 'CMATC', 'DoC', 'CMDoC'], FIGURE_WIDTH=4.803,\n",
    "                      metrics=['bal_accuracy', 'recall', 'specificity', 'auc', 'accuracy', 'precision',  'f1_score', 'ACE / RBS'])"
   ]
  }
 ],
 "metadata": {
  "kernelspec": {
   "display_name": "performance_metrics",
   "language": "python",
   "name": "python3"
  },
  "language_info": {
   "codemirror_mode": {
    "name": "ipython",
    "version": 3
   },
   "file_extension": ".py",
   "mimetype": "text/x-python",
   "name": "python",
   "nbconvert_exporter": "python",
   "pygments_lexer": "ipython3",
   "version": "3.10.15"
  }
 },
 "nbformat": 4,
 "nbformat_minor": 2
}
